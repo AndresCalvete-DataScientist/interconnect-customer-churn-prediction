{
 "cells": [
  {
   "cell_type": "markdown",
   "metadata": {},
   "source": [
    "# Interconnect predicción de abandono de clientes"
   ]
  },
  {
   "cell_type": "markdown",
   "metadata": {},
   "source": [
    "## Contenido\n",
    "\n",
    "* [Introducción](#intro)  \n",
    "* [1. Descripción y preparación de los datos](#data_review)\n",
    "    * [1.1. Importación de librerías y datos](#importation)\n",
    "    * [1.2. Descripción inicial de los datos](#decription)\n",
    "    * [1.3. Preparación inicial de los datos](#pre-process-1)\n",
    "* [2. Análisis exploratorio de los datos](#data_analysis)\n",
    "* [3. Preparación de los datos para los modelos](#data_preprocessing)    \n",
    "* [4. Entrenamiento del modelo predictivo](#model_prediction)   \n",
    "* [5. Predicciones en el conjunto de prueba](#predict_test)   \n",
    "* [Conclusiones](#end)"
   ]
  },
  {
   "cell_type": "markdown",
   "metadata": {},
   "source": [
    "## Introducción <a id=\"intro\"></a>"
   ]
  },
  {
   "cell_type": "markdown",
   "metadata": {},
   "source": [
    "Al operador de telecomunicaciones Interconnect le gustaría poder pronosticar su tasa de cancelación de clientes. Si se descubre que un usuario o usuaria planea irse, se le ofrecerán códigos promocionales y opciones de planes especiales. El equipo de marketing de Interconnect ha recopilado algunos de los datos personales de sus clientes, incluyendo información sobre sus planes y contratos.\n",
    "\n",
    "### Servicios de Interconnect\n",
    "\n",
    "Interconnect proporciona principalmente dos tipos de servicios:\n",
    "\n",
    "1. Comunicación por teléfono fijo. El teléfono se puede conectar a varias líneas de manera simultánea.\n",
    "2. Internet. La red se puede configurar a través de una línea telefónica (DSL, *línea de abonado digital*) o a través de un cable de fibra óptica.\n",
    "\n",
    "Algunos otros servicios que ofrece la empresa incluyen:\n",
    "\n",
    "- Seguridad en Internet: software antivirus (*ProtecciónDeDispositivo*) y un bloqueador de sitios web maliciosos (*SeguridadEnLínea*).\n",
    "- Una línea de soporte técnico (*SoporteTécnico*).\n",
    "- Almacenamiento de archivos en la nube y backup de datos (*BackupOnline*).\n",
    "- Streaming de TV (*StreamingTV*) y directorio de películas (*StreamingPelículas*)\n",
    "\n",
    "La clientela puede elegir entre un pago mensual o firmar un contrato de 1 o 2 años. Puede utilizar varios métodos de pago y recibir una factura electrónica después de una transacción.\n",
    "\n",
    "### Descripción de los datos\n",
    "\n",
    "Los datos consisten en archivos obtenidos de diferentes fuentes:\n",
    "\n",
    "- `contract.csv` — información del contrato;\n",
    "- `personal.csv` — datos personales del cliente;\n",
    "- `internet.csv` — información sobre los servicios de Internet;\n",
    "- `phone.csv` — información sobre los servicios telefónicos.\n",
    "\n",
    "En cada archivo, la columna `customerID` (ID de cliente) contiene un código único asignado a cada cliente.\n",
    "\n",
    "Característica objetivo: la columna `'EndDate'` es igual a `'No'`.  \n",
    "Métrica principal: AUC-ROC.  \n",
    "Métrica adicional: exactitud.  \n",
    "Criterios de aceptabilidad: AUC-ROC ≥ 0.88 "
   ]
  },
  {
   "cell_type": "markdown",
   "metadata": {},
   "source": [
    "### Plan aproximado del proyecto\n",
    "\n",
    "**1. Descripción y preparación de los datos:** se leerá la información de las tablas y se determinará la calidad de los datos, se solucionarán problemas con nulos, duplicados y tipado de los datos.\n",
    "    \n",
    "**2. Análisis exploratorio de los datos:** se preparará un análisis descriptivo de las variables más interesantes, preparando hipótesis de los datos, con un enfoque en la pérdida de clientes y el balance de la variable objetiva.\n",
    "\n",
    "**3. Preparación de los datos para los modelos:** se seleccionarán las características y se propondrán los modelos más atractivos para la tarea de clasificación, se prepararán los datos para que funcionen como entrada de los diferentes modelos, además de desglosarlos en 3 subconjuntos; entrenamiento, validación y prueba.\n",
    "    \n",
    "**4. Entrenamiento del modelo predictivo:** se estudiará el rendimiento de los modelos en el conjunto de validación con diferentes métricas; exactitud, recall, F1, F2 y AUC-ROC. También se usará la validación cruzada para dar robustez al estudio y se tendrá en cuenta si existe sobre ajuste en los modelos seleccionados.\n",
    "   \n",
    "**5. Predicciones en el conjunto de prueba:** con las conclusiones obtenidas en los entrenamientos del punto anterior, se pondrán a prueba los modelos para realizar una evaluación final que retorne conclusiones, recomendaciones y resultados para un modelo predictivo de la pérdida de clientes."
   ]
  },
  {
   "cell_type": "markdown",
   "metadata": {},
   "source": [
    "## 1. Descripción y preparación de los datos <a id=\"data_review\"></a>"
   ]
  },
  {
   "cell_type": "markdown",
   "metadata": {},
   "source": [
    "### 1.1. Importación de librerías y datos. <a id=\"importation\"></a>"
   ]
  },
  {
   "cell_type": "code",
   "execution_count": 9,
   "metadata": {},
   "outputs": [],
   "source": [
    "# Importamos las librerías necesarias\n",
    "import pandas as pd\n",
    "import matplotlib.pyplot as plt\n",
    "import seaborn as sns\n",
    "from sklearn.model_selection import train_test_split"
   ]
  },
  {
   "cell_type": "code",
   "execution_count": 127,
   "metadata": {},
   "outputs": [],
   "source": [
    "# Leemos los datos de información de contratos\n",
    "df_contract = pd.read_csv('../files/datasets/input/final_provider/contract.csv')"
   ]
  },
  {
   "cell_type": "code",
   "execution_count": 26,
   "metadata": {},
   "outputs": [],
   "source": [
    "# Leemos los datos personales de clientes\n",
    "df_personal = pd.read_csv('../files/datasets/input/final_provider/personal.csv')"
   ]
  },
  {
   "cell_type": "code",
   "execution_count": 27,
   "metadata": {},
   "outputs": [],
   "source": [
    "# Leemos los datos de los servicios de internet\n",
    "df_internet = pd.read_csv('../files/datasets/input/final_provider/internet.csv')"
   ]
  },
  {
   "cell_type": "code",
   "execution_count": 28,
   "metadata": {},
   "outputs": [],
   "source": [
    "# Leemos los datos de los servicios telefónicos\n",
    "df_phone = pd.read_csv('../files/datasets/input/final_provider/phone.csv')"
   ]
  },
  {
   "cell_type": "markdown",
   "metadata": {},
   "source": [
    "### 1.2. Descripción inicial de los datos. <a id=\"decription\"></a>"
   ]
  },
  {
   "cell_type": "markdown",
   "metadata": {},
   "source": [
    "#### Datos de contratos"
   ]
  },
  {
   "cell_type": "code",
   "execution_count": 68,
   "metadata": {},
   "outputs": [
    {
     "name": "stdout",
     "output_type": "stream",
     "text": [
      "<class 'pandas.core.frame.DataFrame'>\n",
      "RangeIndex: 7043 entries, 0 to 7042\n",
      "Data columns (total 8 columns):\n",
      " #   Column            Non-Null Count  Dtype  \n",
      "---  ------            --------------  -----  \n",
      " 0   customerID        7043 non-null   object \n",
      " 1   BeginDate         7043 non-null   object \n",
      " 2   EndDate           7043 non-null   object \n",
      " 3   Type              7043 non-null   object \n",
      " 4   PaperlessBilling  7043 non-null   object \n",
      " 5   PaymentMethod     7043 non-null   object \n",
      " 6   MonthlyCharges    7043 non-null   float64\n",
      " 7   TotalCharges      7043 non-null   object \n",
      "dtypes: float64(1), object(7)\n",
      "memory usage: 440.3+ KB\n",
      "None\n",
      "------------------------------------------------------------\n",
      "       MonthlyCharges\n",
      "count     7043.000000\n",
      "mean        64.761692\n",
      "std         30.090047\n",
      "min         18.250000\n",
      "25%         35.500000\n",
      "50%         70.350000\n",
      "75%         89.850000\n",
      "max        118.750000\n",
      "------------------------------------------------------------\n",
      "        customerID   BeginDate EndDate            Type PaperlessBilling  \\\n",
      "count         7043        7043    7043            7043             7043   \n",
      "unique        7043          77       5               3                2   \n",
      "top     3186-AJIEK  2014-02-01      No  Month-to-month              Yes   \n",
      "freq             1         366    5174            3875             4171   \n",
      "\n",
      "           PaymentMethod TotalCharges  \n",
      "count               7043         7043  \n",
      "unique                 4         6531  \n",
      "top     Electronic check         20.2  \n",
      "freq                2365           11  \n"
     ]
    },
    {
     "data": {
      "application/vnd.microsoft.datawrangler.viewer.v0+json": {
       "columns": [
        {
         "name": "index",
         "rawType": "int64",
         "type": "integer"
        },
        {
         "name": "customerID",
         "rawType": "object",
         "type": "string"
        },
        {
         "name": "BeginDate",
         "rawType": "object",
         "type": "string"
        },
        {
         "name": "EndDate",
         "rawType": "object",
         "type": "string"
        },
        {
         "name": "Type",
         "rawType": "object",
         "type": "string"
        },
        {
         "name": "PaperlessBilling",
         "rawType": "object",
         "type": "string"
        },
        {
         "name": "PaymentMethod",
         "rawType": "object",
         "type": "string"
        },
        {
         "name": "MonthlyCharges",
         "rawType": "float64",
         "type": "float"
        },
        {
         "name": "TotalCharges",
         "rawType": "object",
         "type": "string"
        }
       ],
       "ref": "30ef9756-955a-4c67-b914-5d29228ad3ae",
       "rows": [
        [
         "0",
         "7590-VHVEG",
         "2020-01-01",
         "No",
         "Month-to-month",
         "Yes",
         "Electronic check",
         "29.85",
         "29.85"
        ],
        [
         "1",
         "5575-GNVDE",
         "2017-04-01",
         "No",
         "One year",
         "No",
         "Mailed check",
         "56.95",
         "1889.5"
        ],
        [
         "2",
         "3668-QPYBK",
         "2019-10-01",
         "2019-12-01 00:00:00",
         "Month-to-month",
         "Yes",
         "Mailed check",
         "53.85",
         "108.15"
        ]
       ],
       "shape": {
        "columns": 8,
        "rows": 3
       }
      },
      "text/html": [
       "<div>\n",
       "<style scoped>\n",
       "    .dataframe tbody tr th:only-of-type {\n",
       "        vertical-align: middle;\n",
       "    }\n",
       "\n",
       "    .dataframe tbody tr th {\n",
       "        vertical-align: top;\n",
       "    }\n",
       "\n",
       "    .dataframe thead th {\n",
       "        text-align: right;\n",
       "    }\n",
       "</style>\n",
       "<table border=\"1\" class=\"dataframe\">\n",
       "  <thead>\n",
       "    <tr style=\"text-align: right;\">\n",
       "      <th></th>\n",
       "      <th>customerID</th>\n",
       "      <th>BeginDate</th>\n",
       "      <th>EndDate</th>\n",
       "      <th>Type</th>\n",
       "      <th>PaperlessBilling</th>\n",
       "      <th>PaymentMethod</th>\n",
       "      <th>MonthlyCharges</th>\n",
       "      <th>TotalCharges</th>\n",
       "    </tr>\n",
       "  </thead>\n",
       "  <tbody>\n",
       "    <tr>\n",
       "      <th>0</th>\n",
       "      <td>7590-VHVEG</td>\n",
       "      <td>2020-01-01</td>\n",
       "      <td>No</td>\n",
       "      <td>Month-to-month</td>\n",
       "      <td>Yes</td>\n",
       "      <td>Electronic check</td>\n",
       "      <td>29.85</td>\n",
       "      <td>29.85</td>\n",
       "    </tr>\n",
       "    <tr>\n",
       "      <th>1</th>\n",
       "      <td>5575-GNVDE</td>\n",
       "      <td>2017-04-01</td>\n",
       "      <td>No</td>\n",
       "      <td>One year</td>\n",
       "      <td>No</td>\n",
       "      <td>Mailed check</td>\n",
       "      <td>56.95</td>\n",
       "      <td>1889.5</td>\n",
       "    </tr>\n",
       "    <tr>\n",
       "      <th>2</th>\n",
       "      <td>3668-QPYBK</td>\n",
       "      <td>2019-10-01</td>\n",
       "      <td>2019-12-01 00:00:00</td>\n",
       "      <td>Month-to-month</td>\n",
       "      <td>Yes</td>\n",
       "      <td>Mailed check</td>\n",
       "      <td>53.85</td>\n",
       "      <td>108.15</td>\n",
       "    </tr>\n",
       "  </tbody>\n",
       "</table>\n",
       "</div>"
      ],
      "text/plain": [
       "   customerID   BeginDate              EndDate            Type  \\\n",
       "0  7590-VHVEG  2020-01-01                   No  Month-to-month   \n",
       "1  5575-GNVDE  2017-04-01                   No        One year   \n",
       "2  3668-QPYBK  2019-10-01  2019-12-01 00:00:00  Month-to-month   \n",
       "\n",
       "  PaperlessBilling     PaymentMethod  MonthlyCharges TotalCharges  \n",
       "0              Yes  Electronic check           29.85        29.85  \n",
       "1               No      Mailed check           56.95       1889.5  \n",
       "2              Yes      Mailed check           53.85       108.15  "
      ]
     },
     "execution_count": 68,
     "metadata": {},
     "output_type": "execute_result"
    }
   ],
   "source": [
    "# Información y estadísticas descriptivas de los contratos\n",
    "print(df_contract.info())\n",
    "print('---'*20)\n",
    "print(df_contract.describe())\n",
    "print('---'*20)\n",
    "print(df_contract.describe(include='object'))\n",
    "df_contract.head(3)"
   ]
  },
  {
   "cell_type": "markdown",
   "metadata": {},
   "source": [
    "Según la descripción y estadísticas de los datos de contratos (`df_contract`), podemos observar lo siguiente:\n",
    "- No hay presencia de nulos en ninguna columna o fila.\n",
    "- Existen 7043 entradas únicas en customerID, es decir, no hay contratos repetidos.\n",
    "- Evidenciamos necesidades de cambios en el tipo de dato de las columnas BeginDate(cambiar a datetime), EndDate(cambiar a datetime), PaperlessBilling(cambiar a int 0/1), TotalCharges(cambiar a float).\n",
    "- Se requiere separar la columna EndDate en dos, la primera que almacene las fechas de terminación en formato datetime y la segunda que almacene la variable objetivo, si un cliente ha abandonado o no en formato int (IsChurn).\n",
    "- No hay incoherencias en los rangos numéricos de MonthlyCharges.\n",
    "- Identificamos 3 tipos de entradas en la columna Type y 4 en PaymentMethod que validaremos. "
   ]
  },
  {
   "cell_type": "code",
   "execution_count": null,
   "metadata": {},
   "outputs": [
    {
     "name": "stdout",
     "output_type": "stream",
     "text": [
      "['Month-to-month' 'One year' 'Two year']\n",
      "['Electronic check' 'Mailed check' 'Bank transfer (automatic)'\n",
      " 'Credit card (automatic)']\n"
     ]
    }
   ],
   "source": [
    "# Validación de entradas únicas en columnas clave\n",
    "print(df_contract['Type'].unique())\n",
    "print(df_contract['PaymentMethod'].unique())"
   ]
  },
  {
   "cell_type": "markdown",
   "metadata": {},
   "source": [
    "Los valores de las columnas categoricas principales no muestran entradas corrompidas o incoherentes."
   ]
  },
  {
   "cell_type": "markdown",
   "metadata": {},
   "source": [
    "#### Datos personales"
   ]
  },
  {
   "cell_type": "code",
   "execution_count": 34,
   "metadata": {},
   "outputs": [
    {
     "name": "stdout",
     "output_type": "stream",
     "text": [
      "<class 'pandas.core.frame.DataFrame'>\n",
      "RangeIndex: 7043 entries, 0 to 7042\n",
      "Data columns (total 5 columns):\n",
      " #   Column         Non-Null Count  Dtype \n",
      "---  ------         --------------  ----- \n",
      " 0   customerID     7043 non-null   object\n",
      " 1   gender         7043 non-null   object\n",
      " 2   SeniorCitizen  7043 non-null   int64 \n",
      " 3   Partner        7043 non-null   object\n",
      " 4   Dependents     7043 non-null   object\n",
      "dtypes: int64(1), object(4)\n",
      "memory usage: 275.2+ KB\n",
      "None\n",
      "------------------------------------------------------------\n",
      "       SeniorCitizen\n",
      "count    7043.000000\n",
      "mean        0.162147\n",
      "std         0.368612\n",
      "min         0.000000\n",
      "25%         0.000000\n",
      "50%         0.000000\n",
      "75%         0.000000\n",
      "max         1.000000\n",
      "------------------------------------------------------------\n",
      "        customerID gender Partner Dependents\n",
      "count         7043   7043    7043       7043\n",
      "unique        7043      2       2          2\n",
      "top     3186-AJIEK   Male      No         No\n",
      "freq             1   3555    3641       4933\n"
     ]
    },
    {
     "data": {
      "application/vnd.microsoft.datawrangler.viewer.v0+json": {
       "columns": [
        {
         "name": "index",
         "rawType": "int64",
         "type": "integer"
        },
        {
         "name": "customerID",
         "rawType": "object",
         "type": "string"
        },
        {
         "name": "gender",
         "rawType": "object",
         "type": "string"
        },
        {
         "name": "SeniorCitizen",
         "rawType": "int64",
         "type": "integer"
        },
        {
         "name": "Partner",
         "rawType": "object",
         "type": "string"
        },
        {
         "name": "Dependents",
         "rawType": "object",
         "type": "string"
        }
       ],
       "ref": "2dd3b186-35bf-4a03-a3d6-8d3d4b5f5485",
       "rows": [
        [
         "0",
         "7590-VHVEG",
         "Female",
         "0",
         "Yes",
         "No"
        ],
        [
         "1",
         "5575-GNVDE",
         "Male",
         "0",
         "No",
         "No"
        ],
        [
         "2",
         "3668-QPYBK",
         "Male",
         "0",
         "No",
         "No"
        ]
       ],
       "shape": {
        "columns": 5,
        "rows": 3
       }
      },
      "text/html": [
       "<div>\n",
       "<style scoped>\n",
       "    .dataframe tbody tr th:only-of-type {\n",
       "        vertical-align: middle;\n",
       "    }\n",
       "\n",
       "    .dataframe tbody tr th {\n",
       "        vertical-align: top;\n",
       "    }\n",
       "\n",
       "    .dataframe thead th {\n",
       "        text-align: right;\n",
       "    }\n",
       "</style>\n",
       "<table border=\"1\" class=\"dataframe\">\n",
       "  <thead>\n",
       "    <tr style=\"text-align: right;\">\n",
       "      <th></th>\n",
       "      <th>customerID</th>\n",
       "      <th>gender</th>\n",
       "      <th>SeniorCitizen</th>\n",
       "      <th>Partner</th>\n",
       "      <th>Dependents</th>\n",
       "    </tr>\n",
       "  </thead>\n",
       "  <tbody>\n",
       "    <tr>\n",
       "      <th>0</th>\n",
       "      <td>7590-VHVEG</td>\n",
       "      <td>Female</td>\n",
       "      <td>0</td>\n",
       "      <td>Yes</td>\n",
       "      <td>No</td>\n",
       "    </tr>\n",
       "    <tr>\n",
       "      <th>1</th>\n",
       "      <td>5575-GNVDE</td>\n",
       "      <td>Male</td>\n",
       "      <td>0</td>\n",
       "      <td>No</td>\n",
       "      <td>No</td>\n",
       "    </tr>\n",
       "    <tr>\n",
       "      <th>2</th>\n",
       "      <td>3668-QPYBK</td>\n",
       "      <td>Male</td>\n",
       "      <td>0</td>\n",
       "      <td>No</td>\n",
       "      <td>No</td>\n",
       "    </tr>\n",
       "  </tbody>\n",
       "</table>\n",
       "</div>"
      ],
      "text/plain": [
       "   customerID  gender  SeniorCitizen Partner Dependents\n",
       "0  7590-VHVEG  Female              0     Yes         No\n",
       "1  5575-GNVDE    Male              0      No         No\n",
       "2  3668-QPYBK    Male              0      No         No"
      ]
     },
     "execution_count": 34,
     "metadata": {},
     "output_type": "execute_result"
    }
   ],
   "source": [
    "# Información y estadísticas descriptivas de datos personales\n",
    "print(df_personal.info())\n",
    "print('---'*20)\n",
    "print(df_personal.describe())\n",
    "print('---'*20)\n",
    "print(df_personal.describe(include='object'))\n",
    "df_personal.head(3)"
   ]
  },
  {
   "cell_type": "markdown",
   "metadata": {},
   "source": [
    "Según la descripción y estadísticas de los datos personales (`df_personal`), podemos observar lo siguiente:\n",
    "- No hay presencia de nulos en ninguna columna o fila.\n",
    "- Existen 7043 entradas únicas en customerID, es decir, no hay usuarios repetidos.\n",
    "- Evidenciamos necesidades de cambios en el tipo de dato de las columnas Partner(cambiar a int 0/1) y Dependents(cambiar a int 0/1).\n",
    "- No hay incoherencias en los rangos numéricos de SeniorCitizen.\n",
    "- Identificamos 2 tipos de entradas en la columna gender (Female y Male)."
   ]
  },
  {
   "cell_type": "code",
   "execution_count": 36,
   "metadata": {},
   "outputs": [
    {
     "name": "stdout",
     "output_type": "stream",
     "text": [
      "['Female' 'Male']\n",
      "[0 1]\n"
     ]
    }
   ],
   "source": [
    "# Validación de entradas únicas en columnas clave\n",
    "print(df_personal['gender'].unique())\n",
    "print(df_personal['SeniorCitizen'].unique())"
   ]
  },
  {
   "cell_type": "markdown",
   "metadata": {},
   "source": [
    "Los valores de las columnas categoricas principales no muestran entradas corrompidas o incoherentes."
   ]
  },
  {
   "cell_type": "markdown",
   "metadata": {},
   "source": [
    "#### Datos de internet"
   ]
  },
  {
   "cell_type": "code",
   "execution_count": 38,
   "metadata": {},
   "outputs": [
    {
     "name": "stdout",
     "output_type": "stream",
     "text": [
      "<class 'pandas.core.frame.DataFrame'>\n",
      "RangeIndex: 5517 entries, 0 to 5516\n",
      "Data columns (total 8 columns):\n",
      " #   Column            Non-Null Count  Dtype \n",
      "---  ------            --------------  ----- \n",
      " 0   customerID        5517 non-null   object\n",
      " 1   InternetService   5517 non-null   object\n",
      " 2   OnlineSecurity    5517 non-null   object\n",
      " 3   OnlineBackup      5517 non-null   object\n",
      " 4   DeviceProtection  5517 non-null   object\n",
      " 5   TechSupport       5517 non-null   object\n",
      " 6   StreamingTV       5517 non-null   object\n",
      " 7   StreamingMovies   5517 non-null   object\n",
      "dtypes: object(8)\n",
      "memory usage: 344.9+ KB\n",
      "None\n",
      "------------------------------------------------------------\n",
      "        customerID InternetService OnlineSecurity OnlineBackup  \\\n",
      "count         5517            5517           5517         5517   \n",
      "unique        5517               2              2            2   \n",
      "top     3186-AJIEK     Fiber optic             No           No   \n",
      "freq             1            3096           3498         3088   \n",
      "\n",
      "       DeviceProtection TechSupport StreamingTV StreamingMovies  \n",
      "count              5517        5517        5517            5517  \n",
      "unique                2           2           2               2  \n",
      "top                  No          No          No              No  \n",
      "freq               3095        3473        2810            2785  \n"
     ]
    },
    {
     "data": {
      "application/vnd.microsoft.datawrangler.viewer.v0+json": {
       "columns": [
        {
         "name": "index",
         "rawType": "int64",
         "type": "integer"
        },
        {
         "name": "customerID",
         "rawType": "object",
         "type": "string"
        },
        {
         "name": "InternetService",
         "rawType": "object",
         "type": "string"
        },
        {
         "name": "OnlineSecurity",
         "rawType": "object",
         "type": "string"
        },
        {
         "name": "OnlineBackup",
         "rawType": "object",
         "type": "string"
        },
        {
         "name": "DeviceProtection",
         "rawType": "object",
         "type": "string"
        },
        {
         "name": "TechSupport",
         "rawType": "object",
         "type": "string"
        },
        {
         "name": "StreamingTV",
         "rawType": "object",
         "type": "string"
        },
        {
         "name": "StreamingMovies",
         "rawType": "object",
         "type": "string"
        }
       ],
       "ref": "b924c8ab-f682-4a02-81d9-ea518ff06a54",
       "rows": [
        [
         "0",
         "7590-VHVEG",
         "DSL",
         "No",
         "Yes",
         "No",
         "No",
         "No",
         "No"
        ],
        [
         "1",
         "5575-GNVDE",
         "DSL",
         "Yes",
         "No",
         "Yes",
         "No",
         "No",
         "No"
        ],
        [
         "2",
         "3668-QPYBK",
         "DSL",
         "Yes",
         "Yes",
         "No",
         "No",
         "No",
         "No"
        ]
       ],
       "shape": {
        "columns": 8,
        "rows": 3
       }
      },
      "text/html": [
       "<div>\n",
       "<style scoped>\n",
       "    .dataframe tbody tr th:only-of-type {\n",
       "        vertical-align: middle;\n",
       "    }\n",
       "\n",
       "    .dataframe tbody tr th {\n",
       "        vertical-align: top;\n",
       "    }\n",
       "\n",
       "    .dataframe thead th {\n",
       "        text-align: right;\n",
       "    }\n",
       "</style>\n",
       "<table border=\"1\" class=\"dataframe\">\n",
       "  <thead>\n",
       "    <tr style=\"text-align: right;\">\n",
       "      <th></th>\n",
       "      <th>customerID</th>\n",
       "      <th>InternetService</th>\n",
       "      <th>OnlineSecurity</th>\n",
       "      <th>OnlineBackup</th>\n",
       "      <th>DeviceProtection</th>\n",
       "      <th>TechSupport</th>\n",
       "      <th>StreamingTV</th>\n",
       "      <th>StreamingMovies</th>\n",
       "    </tr>\n",
       "  </thead>\n",
       "  <tbody>\n",
       "    <tr>\n",
       "      <th>0</th>\n",
       "      <td>7590-VHVEG</td>\n",
       "      <td>DSL</td>\n",
       "      <td>No</td>\n",
       "      <td>Yes</td>\n",
       "      <td>No</td>\n",
       "      <td>No</td>\n",
       "      <td>No</td>\n",
       "      <td>No</td>\n",
       "    </tr>\n",
       "    <tr>\n",
       "      <th>1</th>\n",
       "      <td>5575-GNVDE</td>\n",
       "      <td>DSL</td>\n",
       "      <td>Yes</td>\n",
       "      <td>No</td>\n",
       "      <td>Yes</td>\n",
       "      <td>No</td>\n",
       "      <td>No</td>\n",
       "      <td>No</td>\n",
       "    </tr>\n",
       "    <tr>\n",
       "      <th>2</th>\n",
       "      <td>3668-QPYBK</td>\n",
       "      <td>DSL</td>\n",
       "      <td>Yes</td>\n",
       "      <td>Yes</td>\n",
       "      <td>No</td>\n",
       "      <td>No</td>\n",
       "      <td>No</td>\n",
       "      <td>No</td>\n",
       "    </tr>\n",
       "  </tbody>\n",
       "</table>\n",
       "</div>"
      ],
      "text/plain": [
       "   customerID InternetService OnlineSecurity OnlineBackup DeviceProtection  \\\n",
       "0  7590-VHVEG             DSL             No          Yes               No   \n",
       "1  5575-GNVDE             DSL            Yes           No              Yes   \n",
       "2  3668-QPYBK             DSL            Yes          Yes               No   \n",
       "\n",
       "  TechSupport StreamingTV StreamingMovies  \n",
       "0          No          No              No  \n",
       "1          No          No              No  \n",
       "2          No          No              No  "
      ]
     },
     "execution_count": 38,
     "metadata": {},
     "output_type": "execute_result"
    }
   ],
   "source": [
    "# Información y estadísticas descriptivas de datos de internet\n",
    "print(df_internet.info())\n",
    "print('---'*20)\n",
    "print(df_internet.describe())\n",
    "df_internet.head(3)"
   ]
  },
  {
   "cell_type": "markdown",
   "metadata": {},
   "source": [
    "Según la descripción y estadísticas de los datos personales (`df_internet`), podemos observar lo siguiente:\n",
    "- No hay presencia de nulos en ninguna columna o fila.\n",
    "- Existen 5517 entradas únicas en customerID, es decir, no hay usuarios repetidos.\n",
    "- Todas las columnas son categorías transferibles al tipo int 0/1.\n",
    "- Existen 2 tipos de entradas en la columna InternetService (DSL y Fiber optic)."
   ]
  },
  {
   "cell_type": "code",
   "execution_count": 39,
   "metadata": {},
   "outputs": [
    {
     "name": "stdout",
     "output_type": "stream",
     "text": [
      "['DSL' 'Fiber optic']\n"
     ]
    }
   ],
   "source": [
    "# Validación de entradas únicas en columnas clave\n",
    "print(df_internet['InternetService'].unique())"
   ]
  },
  {
   "cell_type": "markdown",
   "metadata": {},
   "source": [
    "Los valores de la columnas categorica principal no muestra entradas corrompidas o incoherentes."
   ]
  },
  {
   "cell_type": "markdown",
   "metadata": {},
   "source": [
    "#### Datos telefónicos"
   ]
  },
  {
   "cell_type": "code",
   "execution_count": 40,
   "metadata": {},
   "outputs": [
    {
     "name": "stdout",
     "output_type": "stream",
     "text": [
      "<class 'pandas.core.frame.DataFrame'>\n",
      "RangeIndex: 6361 entries, 0 to 6360\n",
      "Data columns (total 2 columns):\n",
      " #   Column         Non-Null Count  Dtype \n",
      "---  ------         --------------  ----- \n",
      " 0   customerID     6361 non-null   object\n",
      " 1   MultipleLines  6361 non-null   object\n",
      "dtypes: object(2)\n",
      "memory usage: 99.5+ KB\n",
      "None\n",
      "------------------------------------------------------------\n",
      "        customerID MultipleLines\n",
      "count         6361          6361\n",
      "unique        6361             2\n",
      "top     3186-AJIEK            No\n",
      "freq             1          3390\n"
     ]
    },
    {
     "data": {
      "application/vnd.microsoft.datawrangler.viewer.v0+json": {
       "columns": [
        {
         "name": "index",
         "rawType": "int64",
         "type": "integer"
        },
        {
         "name": "customerID",
         "rawType": "object",
         "type": "string"
        },
        {
         "name": "MultipleLines",
         "rawType": "object",
         "type": "string"
        }
       ],
       "ref": "7cd4f49c-3ff6-4054-904e-d22f480e7980",
       "rows": [
        [
         "0",
         "5575-GNVDE",
         "No"
        ],
        [
         "1",
         "3668-QPYBK",
         "No"
        ],
        [
         "2",
         "9237-HQITU",
         "No"
        ]
       ],
       "shape": {
        "columns": 2,
        "rows": 3
       }
      },
      "text/html": [
       "<div>\n",
       "<style scoped>\n",
       "    .dataframe tbody tr th:only-of-type {\n",
       "        vertical-align: middle;\n",
       "    }\n",
       "\n",
       "    .dataframe tbody tr th {\n",
       "        vertical-align: top;\n",
       "    }\n",
       "\n",
       "    .dataframe thead th {\n",
       "        text-align: right;\n",
       "    }\n",
       "</style>\n",
       "<table border=\"1\" class=\"dataframe\">\n",
       "  <thead>\n",
       "    <tr style=\"text-align: right;\">\n",
       "      <th></th>\n",
       "      <th>customerID</th>\n",
       "      <th>MultipleLines</th>\n",
       "    </tr>\n",
       "  </thead>\n",
       "  <tbody>\n",
       "    <tr>\n",
       "      <th>0</th>\n",
       "      <td>5575-GNVDE</td>\n",
       "      <td>No</td>\n",
       "    </tr>\n",
       "    <tr>\n",
       "      <th>1</th>\n",
       "      <td>3668-QPYBK</td>\n",
       "      <td>No</td>\n",
       "    </tr>\n",
       "    <tr>\n",
       "      <th>2</th>\n",
       "      <td>9237-HQITU</td>\n",
       "      <td>No</td>\n",
       "    </tr>\n",
       "  </tbody>\n",
       "</table>\n",
       "</div>"
      ],
      "text/plain": [
       "   customerID MultipleLines\n",
       "0  5575-GNVDE            No\n",
       "1  3668-QPYBK            No\n",
       "2  9237-HQITU            No"
      ]
     },
     "execution_count": 40,
     "metadata": {},
     "output_type": "execute_result"
    }
   ],
   "source": [
    "# Información y estadísticas descriptivas de datos telefónicos\n",
    "print(df_phone.info())\n",
    "print('---'*20)\n",
    "print(df_phone.describe())\n",
    "df_phone.head(3)"
   ]
  },
  {
   "cell_type": "markdown",
   "metadata": {},
   "source": [
    "Según la descripción y estadísticas de los datos personales (`df_phone`), podemos observar lo siguiente:\n",
    "- No hay presencia de nulos en ninguna columna o fila.\n",
    "- Existen 6361 entradas únicas en customerID, es decir, no hay usuarios repetidos.\n",
    "- La columna MultipleLines es transferible al tipo int 0/1."
   ]
  },
  {
   "cell_type": "markdown",
   "metadata": {},
   "source": [
    "### 1.3. Preparación inicial de los datos. <a id=\"pre-process-1\"></a>"
   ]
  },
  {
   "cell_type": "markdown",
   "metadata": {},
   "source": [
    "En esta sección se ajustarán las observaciones realizadas en la sección anterior, para que los datos estén listos para el análisis exploratorio y la preparación de los datos para los modelos."
   ]
  },
  {
   "cell_type": "markdown",
   "metadata": {},
   "source": [
    "#### Datos de contratos"
   ]
  },
  {
   "cell_type": "code",
   "execution_count": 128,
   "metadata": {},
   "outputs": [],
   "source": [
    "# Cambio de tipo de datos de la columna 'BeginDate' a datetime\n",
    "df_contract['BeginDate'] = pd.to_datetime(df_contract['BeginDate']).dt.date"
   ]
  },
  {
   "cell_type": "code",
   "execution_count": null,
   "metadata": {},
   "outputs": [],
   "source": [
    "# Creación de la columna 'IsChurned'\n",
    "df_contract['IsChurn'] = df_contract['EndDate'].map(lambda x: 1 if x != 'No' else 0)\n",
    "\n",
    "# Cambio de tipo de datos de la columna 'EndDate' a datetime\n",
    "df_contract['EndDate'] = pd.to_datetime(df_contract['EndDate'], format='%Y-%m-%d %H:%M:%S', errors='coerce').dt.date"
   ]
  },
  {
   "cell_type": "code",
   "execution_count": 130,
   "metadata": {},
   "outputs": [],
   "source": [
    "# Conversión de columna categórica PaperlessBilling a numérica booleana\n",
    "df_contract['PaperlessBilling'] = df_contract['PaperlessBilling'].map({'Yes': 1, 'No': 0})"
   ]
  },
  {
   "cell_type": "code",
   "execution_count": 131,
   "metadata": {},
   "outputs": [
    {
     "data": {
      "application/vnd.microsoft.datawrangler.viewer.v0+json": {
       "columns": [
        {
         "name": "index",
         "rawType": "int64",
         "type": "integer"
        },
        {
         "name": "customerID",
         "rawType": "object",
         "type": "string"
        },
        {
         "name": "BeginDate",
         "rawType": "object",
         "type": "unknown"
        },
        {
         "name": "EndDate",
         "rawType": "object",
         "type": "unknown"
        },
        {
         "name": "Type",
         "rawType": "object",
         "type": "string"
        },
        {
         "name": "PaperlessBilling",
         "rawType": "int64",
         "type": "integer"
        },
        {
         "name": "PaymentMethod",
         "rawType": "object",
         "type": "string"
        },
        {
         "name": "MonthlyCharges",
         "rawType": "float64",
         "type": "float"
        },
        {
         "name": "TotalCharges",
         "rawType": "object",
         "type": "string"
        },
        {
         "name": "IsChurned",
         "rawType": "int64",
         "type": "integer"
        }
       ],
       "ref": "72047006-63e4-4b3a-9b8e-bc649cd1cd7b",
       "rows": [
        [
         "488",
         "4472-LVYGI",
         "2020-02-01",
         null,
         "Two year",
         "1",
         "Bank transfer (automatic)",
         "52.55",
         " ",
         "0"
        ],
        [
         "753",
         "3115-CZMZD",
         "2020-02-01",
         null,
         "Two year",
         "0",
         "Mailed check",
         "20.25",
         " ",
         "0"
        ],
        [
         "936",
         "5709-LVOEQ",
         "2020-02-01",
         null,
         "Two year",
         "0",
         "Mailed check",
         "80.85",
         " ",
         "0"
        ],
        [
         "1082",
         "4367-NUYAO",
         "2020-02-01",
         null,
         "Two year",
         "0",
         "Mailed check",
         "25.75",
         " ",
         "0"
        ],
        [
         "1340",
         "1371-DWPAZ",
         "2020-02-01",
         null,
         "Two year",
         "0",
         "Credit card (automatic)",
         "56.05",
         " ",
         "0"
        ],
        [
         "3331",
         "7644-OMVMY",
         "2020-02-01",
         null,
         "Two year",
         "0",
         "Mailed check",
         "19.85",
         " ",
         "0"
        ],
        [
         "3826",
         "3213-VVOLG",
         "2020-02-01",
         null,
         "Two year",
         "0",
         "Mailed check",
         "25.35",
         " ",
         "0"
        ],
        [
         "4380",
         "2520-SGTTA",
         "2020-02-01",
         null,
         "Two year",
         "0",
         "Mailed check",
         "20.0",
         " ",
         "0"
        ],
        [
         "5218",
         "2923-ARZLG",
         "2020-02-01",
         null,
         "One year",
         "1",
         "Mailed check",
         "19.7",
         " ",
         "0"
        ],
        [
         "6670",
         "4075-WKNIU",
         "2020-02-01",
         null,
         "Two year",
         "0",
         "Mailed check",
         "73.35",
         " ",
         "0"
        ],
        [
         "6754",
         "2775-SEFEE",
         "2020-02-01",
         null,
         "Two year",
         "1",
         "Bank transfer (automatic)",
         "61.9",
         " ",
         "0"
        ]
       ],
       "shape": {
        "columns": 9,
        "rows": 11
       }
      },
      "text/html": [
       "<div>\n",
       "<style scoped>\n",
       "    .dataframe tbody tr th:only-of-type {\n",
       "        vertical-align: middle;\n",
       "    }\n",
       "\n",
       "    .dataframe tbody tr th {\n",
       "        vertical-align: top;\n",
       "    }\n",
       "\n",
       "    .dataframe thead th {\n",
       "        text-align: right;\n",
       "    }\n",
       "</style>\n",
       "<table border=\"1\" class=\"dataframe\">\n",
       "  <thead>\n",
       "    <tr style=\"text-align: right;\">\n",
       "      <th></th>\n",
       "      <th>customerID</th>\n",
       "      <th>BeginDate</th>\n",
       "      <th>EndDate</th>\n",
       "      <th>Type</th>\n",
       "      <th>PaperlessBilling</th>\n",
       "      <th>PaymentMethod</th>\n",
       "      <th>MonthlyCharges</th>\n",
       "      <th>TotalCharges</th>\n",
       "      <th>IsChurned</th>\n",
       "    </tr>\n",
       "  </thead>\n",
       "  <tbody>\n",
       "    <tr>\n",
       "      <th>488</th>\n",
       "      <td>4472-LVYGI</td>\n",
       "      <td>2020-02-01</td>\n",
       "      <td>NaT</td>\n",
       "      <td>Two year</td>\n",
       "      <td>1</td>\n",
       "      <td>Bank transfer (automatic)</td>\n",
       "      <td>52.55</td>\n",
       "      <td></td>\n",
       "      <td>0</td>\n",
       "    </tr>\n",
       "    <tr>\n",
       "      <th>753</th>\n",
       "      <td>3115-CZMZD</td>\n",
       "      <td>2020-02-01</td>\n",
       "      <td>NaT</td>\n",
       "      <td>Two year</td>\n",
       "      <td>0</td>\n",
       "      <td>Mailed check</td>\n",
       "      <td>20.25</td>\n",
       "      <td></td>\n",
       "      <td>0</td>\n",
       "    </tr>\n",
       "    <tr>\n",
       "      <th>936</th>\n",
       "      <td>5709-LVOEQ</td>\n",
       "      <td>2020-02-01</td>\n",
       "      <td>NaT</td>\n",
       "      <td>Two year</td>\n",
       "      <td>0</td>\n",
       "      <td>Mailed check</td>\n",
       "      <td>80.85</td>\n",
       "      <td></td>\n",
       "      <td>0</td>\n",
       "    </tr>\n",
       "    <tr>\n",
       "      <th>1082</th>\n",
       "      <td>4367-NUYAO</td>\n",
       "      <td>2020-02-01</td>\n",
       "      <td>NaT</td>\n",
       "      <td>Two year</td>\n",
       "      <td>0</td>\n",
       "      <td>Mailed check</td>\n",
       "      <td>25.75</td>\n",
       "      <td></td>\n",
       "      <td>0</td>\n",
       "    </tr>\n",
       "    <tr>\n",
       "      <th>1340</th>\n",
       "      <td>1371-DWPAZ</td>\n",
       "      <td>2020-02-01</td>\n",
       "      <td>NaT</td>\n",
       "      <td>Two year</td>\n",
       "      <td>0</td>\n",
       "      <td>Credit card (automatic)</td>\n",
       "      <td>56.05</td>\n",
       "      <td></td>\n",
       "      <td>0</td>\n",
       "    </tr>\n",
       "    <tr>\n",
       "      <th>3331</th>\n",
       "      <td>7644-OMVMY</td>\n",
       "      <td>2020-02-01</td>\n",
       "      <td>NaT</td>\n",
       "      <td>Two year</td>\n",
       "      <td>0</td>\n",
       "      <td>Mailed check</td>\n",
       "      <td>19.85</td>\n",
       "      <td></td>\n",
       "      <td>0</td>\n",
       "    </tr>\n",
       "    <tr>\n",
       "      <th>3826</th>\n",
       "      <td>3213-VVOLG</td>\n",
       "      <td>2020-02-01</td>\n",
       "      <td>NaT</td>\n",
       "      <td>Two year</td>\n",
       "      <td>0</td>\n",
       "      <td>Mailed check</td>\n",
       "      <td>25.35</td>\n",
       "      <td></td>\n",
       "      <td>0</td>\n",
       "    </tr>\n",
       "    <tr>\n",
       "      <th>4380</th>\n",
       "      <td>2520-SGTTA</td>\n",
       "      <td>2020-02-01</td>\n",
       "      <td>NaT</td>\n",
       "      <td>Two year</td>\n",
       "      <td>0</td>\n",
       "      <td>Mailed check</td>\n",
       "      <td>20.00</td>\n",
       "      <td></td>\n",
       "      <td>0</td>\n",
       "    </tr>\n",
       "    <tr>\n",
       "      <th>5218</th>\n",
       "      <td>2923-ARZLG</td>\n",
       "      <td>2020-02-01</td>\n",
       "      <td>NaT</td>\n",
       "      <td>One year</td>\n",
       "      <td>1</td>\n",
       "      <td>Mailed check</td>\n",
       "      <td>19.70</td>\n",
       "      <td></td>\n",
       "      <td>0</td>\n",
       "    </tr>\n",
       "    <tr>\n",
       "      <th>6670</th>\n",
       "      <td>4075-WKNIU</td>\n",
       "      <td>2020-02-01</td>\n",
       "      <td>NaT</td>\n",
       "      <td>Two year</td>\n",
       "      <td>0</td>\n",
       "      <td>Mailed check</td>\n",
       "      <td>73.35</td>\n",
       "      <td></td>\n",
       "      <td>0</td>\n",
       "    </tr>\n",
       "    <tr>\n",
       "      <th>6754</th>\n",
       "      <td>2775-SEFEE</td>\n",
       "      <td>2020-02-01</td>\n",
       "      <td>NaT</td>\n",
       "      <td>Two year</td>\n",
       "      <td>1</td>\n",
       "      <td>Bank transfer (automatic)</td>\n",
       "      <td>61.90</td>\n",
       "      <td></td>\n",
       "      <td>0</td>\n",
       "    </tr>\n",
       "  </tbody>\n",
       "</table>\n",
       "</div>"
      ],
      "text/plain": [
       "      customerID   BeginDate EndDate      Type  PaperlessBilling  \\\n",
       "488   4472-LVYGI  2020-02-01     NaT  Two year                 1   \n",
       "753   3115-CZMZD  2020-02-01     NaT  Two year                 0   \n",
       "936   5709-LVOEQ  2020-02-01     NaT  Two year                 0   \n",
       "1082  4367-NUYAO  2020-02-01     NaT  Two year                 0   \n",
       "1340  1371-DWPAZ  2020-02-01     NaT  Two year                 0   \n",
       "3331  7644-OMVMY  2020-02-01     NaT  Two year                 0   \n",
       "3826  3213-VVOLG  2020-02-01     NaT  Two year                 0   \n",
       "4380  2520-SGTTA  2020-02-01     NaT  Two year                 0   \n",
       "5218  2923-ARZLG  2020-02-01     NaT  One year                 1   \n",
       "6670  4075-WKNIU  2020-02-01     NaT  Two year                 0   \n",
       "6754  2775-SEFEE  2020-02-01     NaT  Two year                 1   \n",
       "\n",
       "                  PaymentMethod  MonthlyCharges TotalCharges  IsChurned  \n",
       "488   Bank transfer (automatic)           52.55                       0  \n",
       "753                Mailed check           20.25                       0  \n",
       "936                Mailed check           80.85                       0  \n",
       "1082               Mailed check           25.75                       0  \n",
       "1340    Credit card (automatic)           56.05                       0  \n",
       "3331               Mailed check           19.85                       0  \n",
       "3826               Mailed check           25.35                       0  \n",
       "4380               Mailed check           20.00                       0  \n",
       "5218               Mailed check           19.70                       0  \n",
       "6670               Mailed check           73.35                       0  \n",
       "6754  Bank transfer (automatic)           61.90                       0  "
      ]
     },
     "execution_count": 131,
     "metadata": {},
     "output_type": "execute_result"
    }
   ],
   "source": [
    "# Revisión del contenido a profundidad de la columna TotalCharges\n",
    "df_contract[df_contract['TotalCharges'].str.contains('[^\\d.]')]"
   ]
  },
  {
   "cell_type": "markdown",
   "metadata": {},
   "source": [
    "Algunos valores no son numéricos en la columna TotalCharges, todos corresponden a la fecha de ingreso '2020-02-01', por lo que están relacionados con ingresos recientes que aún no registran valores, por lo que se procederá a convertirlos a 0.0."
   ]
  },
  {
   "cell_type": "code",
   "execution_count": 132,
   "metadata": {},
   "outputs": [
    {
     "data": {
      "application/vnd.microsoft.datawrangler.viewer.v0+json": {
       "columns": [
        {
         "name": "index",
         "rawType": "int64",
         "type": "integer"
        },
        {
         "name": "customerID",
         "rawType": "object",
         "type": "string"
        },
        {
         "name": "BeginDate",
         "rawType": "object",
         "type": "unknown"
        },
        {
         "name": "EndDate",
         "rawType": "object",
         "type": "unknown"
        },
        {
         "name": "Type",
         "rawType": "object",
         "type": "string"
        },
        {
         "name": "PaperlessBilling",
         "rawType": "int64",
         "type": "integer"
        },
        {
         "name": "PaymentMethod",
         "rawType": "object",
         "type": "string"
        },
        {
         "name": "MonthlyCharges",
         "rawType": "float64",
         "type": "float"
        },
        {
         "name": "TotalCharges",
         "rawType": "float64",
         "type": "float"
        },
        {
         "name": "IsChurned",
         "rawType": "int64",
         "type": "integer"
        }
       ],
       "ref": "c728299d-9751-4eb2-9d85-dd80170ee8f0",
       "rows": [
        [
         "0",
         "7590-VHVEG",
         "2020-01-01",
         null,
         "Month-to-month",
         "1",
         "Electronic check",
         "29.85",
         "29.85",
         "0"
        ],
        [
         "1",
         "5575-GNVDE",
         "2017-04-01",
         null,
         "One year",
         "0",
         "Mailed check",
         "56.95",
         "1889.5",
         "0"
        ],
        [
         "2",
         "3668-QPYBK",
         "2019-10-01",
         "2019-12-01",
         "Month-to-month",
         "1",
         "Mailed check",
         "53.85",
         "108.15",
         "1"
        ],
        [
         "3",
         "7795-CFOCW",
         "2016-05-01",
         null,
         "One year",
         "0",
         "Bank transfer (automatic)",
         "42.3",
         "1840.75",
         "0"
        ],
        [
         "4",
         "9237-HQITU",
         "2019-09-01",
         "2019-11-01",
         "Month-to-month",
         "1",
         "Electronic check",
         "70.7",
         "151.65",
         "1"
        ]
       ],
       "shape": {
        "columns": 9,
        "rows": 5
       }
      },
      "text/html": [
       "<div>\n",
       "<style scoped>\n",
       "    .dataframe tbody tr th:only-of-type {\n",
       "        vertical-align: middle;\n",
       "    }\n",
       "\n",
       "    .dataframe tbody tr th {\n",
       "        vertical-align: top;\n",
       "    }\n",
       "\n",
       "    .dataframe thead th {\n",
       "        text-align: right;\n",
       "    }\n",
       "</style>\n",
       "<table border=\"1\" class=\"dataframe\">\n",
       "  <thead>\n",
       "    <tr style=\"text-align: right;\">\n",
       "      <th></th>\n",
       "      <th>customerID</th>\n",
       "      <th>BeginDate</th>\n",
       "      <th>EndDate</th>\n",
       "      <th>Type</th>\n",
       "      <th>PaperlessBilling</th>\n",
       "      <th>PaymentMethod</th>\n",
       "      <th>MonthlyCharges</th>\n",
       "      <th>TotalCharges</th>\n",
       "      <th>IsChurned</th>\n",
       "    </tr>\n",
       "  </thead>\n",
       "  <tbody>\n",
       "    <tr>\n",
       "      <th>0</th>\n",
       "      <td>7590-VHVEG</td>\n",
       "      <td>2020-01-01</td>\n",
       "      <td>NaT</td>\n",
       "      <td>Month-to-month</td>\n",
       "      <td>1</td>\n",
       "      <td>Electronic check</td>\n",
       "      <td>29.85</td>\n",
       "      <td>29.85</td>\n",
       "      <td>0</td>\n",
       "    </tr>\n",
       "    <tr>\n",
       "      <th>1</th>\n",
       "      <td>5575-GNVDE</td>\n",
       "      <td>2017-04-01</td>\n",
       "      <td>NaT</td>\n",
       "      <td>One year</td>\n",
       "      <td>0</td>\n",
       "      <td>Mailed check</td>\n",
       "      <td>56.95</td>\n",
       "      <td>1889.50</td>\n",
       "      <td>0</td>\n",
       "    </tr>\n",
       "    <tr>\n",
       "      <th>2</th>\n",
       "      <td>3668-QPYBK</td>\n",
       "      <td>2019-10-01</td>\n",
       "      <td>2019-12-01</td>\n",
       "      <td>Month-to-month</td>\n",
       "      <td>1</td>\n",
       "      <td>Mailed check</td>\n",
       "      <td>53.85</td>\n",
       "      <td>108.15</td>\n",
       "      <td>1</td>\n",
       "    </tr>\n",
       "    <tr>\n",
       "      <th>3</th>\n",
       "      <td>7795-CFOCW</td>\n",
       "      <td>2016-05-01</td>\n",
       "      <td>NaT</td>\n",
       "      <td>One year</td>\n",
       "      <td>0</td>\n",
       "      <td>Bank transfer (automatic)</td>\n",
       "      <td>42.30</td>\n",
       "      <td>1840.75</td>\n",
       "      <td>0</td>\n",
       "    </tr>\n",
       "    <tr>\n",
       "      <th>4</th>\n",
       "      <td>9237-HQITU</td>\n",
       "      <td>2019-09-01</td>\n",
       "      <td>2019-11-01</td>\n",
       "      <td>Month-to-month</td>\n",
       "      <td>1</td>\n",
       "      <td>Electronic check</td>\n",
       "      <td>70.70</td>\n",
       "      <td>151.65</td>\n",
       "      <td>1</td>\n",
       "    </tr>\n",
       "  </tbody>\n",
       "</table>\n",
       "</div>"
      ],
      "text/plain": [
       "   customerID   BeginDate     EndDate            Type  PaperlessBilling  \\\n",
       "0  7590-VHVEG  2020-01-01         NaT  Month-to-month                 1   \n",
       "1  5575-GNVDE  2017-04-01         NaT        One year                 0   \n",
       "2  3668-QPYBK  2019-10-01  2019-12-01  Month-to-month                 1   \n",
       "3  7795-CFOCW  2016-05-01         NaT        One year                 0   \n",
       "4  9237-HQITU  2019-09-01  2019-11-01  Month-to-month                 1   \n",
       "\n",
       "               PaymentMethod  MonthlyCharges  TotalCharges  IsChurned  \n",
       "0           Electronic check           29.85         29.85          0  \n",
       "1               Mailed check           56.95       1889.50          0  \n",
       "2               Mailed check           53.85        108.15          1  \n",
       "3  Bank transfer (automatic)           42.30       1840.75          0  \n",
       "4           Electronic check           70.70        151.65          1  "
      ]
     },
     "execution_count": 132,
     "metadata": {},
     "output_type": "execute_result"
    }
   ],
   "source": [
    "# Reemplazo de valores no numéricos en 'TotalCharges' por 0.0\n",
    "df_contract.loc[df_contract['TotalCharges'].str.contains('[^\\d.]'), 'TotalCharges'] = 0.0\n",
    "\n",
    "# Conversión de la columna 'TotalCharges' a tipo numérico\n",
    "df_contract['TotalCharges'] = pd.to_numeric(df_contract['TotalCharges'])\n",
    "df_contract.head()"
   ]
  },
  {
   "cell_type": "markdown",
   "metadata": {},
   "source": [
    "#### Datos personales"
   ]
  },
  {
   "cell_type": "code",
   "execution_count": 135,
   "metadata": {},
   "outputs": [],
   "source": [
    "# Conversión de columna categórica Partner a numérica booleana\n",
    "df_personal['Partner'] = df_personal['Partner'].map({'Yes': 1, 'No': 0})"
   ]
  },
  {
   "cell_type": "code",
   "execution_count": 136,
   "metadata": {},
   "outputs": [
    {
     "data": {
      "application/vnd.microsoft.datawrangler.viewer.v0+json": {
       "columns": [
        {
         "name": "index",
         "rawType": "int64",
         "type": "integer"
        },
        {
         "name": "customerID",
         "rawType": "object",
         "type": "string"
        },
        {
         "name": "gender",
         "rawType": "object",
         "type": "string"
        },
        {
         "name": "SeniorCitizen",
         "rawType": "int64",
         "type": "integer"
        },
        {
         "name": "Partner",
         "rawType": "int64",
         "type": "integer"
        },
        {
         "name": "Dependents",
         "rawType": "int64",
         "type": "integer"
        }
       ],
       "ref": "89499584-2cea-4181-ad12-d686108d7a19",
       "rows": [
        [
         "0",
         "7590-VHVEG",
         "Female",
         "0",
         "1",
         "0"
        ],
        [
         "1",
         "5575-GNVDE",
         "Male",
         "0",
         "0",
         "0"
        ],
        [
         "2",
         "3668-QPYBK",
         "Male",
         "0",
         "0",
         "0"
        ],
        [
         "3",
         "7795-CFOCW",
         "Male",
         "0",
         "0",
         "0"
        ],
        [
         "4",
         "9237-HQITU",
         "Female",
         "0",
         "0",
         "0"
        ]
       ],
       "shape": {
        "columns": 5,
        "rows": 5
       }
      },
      "text/html": [
       "<div>\n",
       "<style scoped>\n",
       "    .dataframe tbody tr th:only-of-type {\n",
       "        vertical-align: middle;\n",
       "    }\n",
       "\n",
       "    .dataframe tbody tr th {\n",
       "        vertical-align: top;\n",
       "    }\n",
       "\n",
       "    .dataframe thead th {\n",
       "        text-align: right;\n",
       "    }\n",
       "</style>\n",
       "<table border=\"1\" class=\"dataframe\">\n",
       "  <thead>\n",
       "    <tr style=\"text-align: right;\">\n",
       "      <th></th>\n",
       "      <th>customerID</th>\n",
       "      <th>gender</th>\n",
       "      <th>SeniorCitizen</th>\n",
       "      <th>Partner</th>\n",
       "      <th>Dependents</th>\n",
       "    </tr>\n",
       "  </thead>\n",
       "  <tbody>\n",
       "    <tr>\n",
       "      <th>0</th>\n",
       "      <td>7590-VHVEG</td>\n",
       "      <td>Female</td>\n",
       "      <td>0</td>\n",
       "      <td>1</td>\n",
       "      <td>0</td>\n",
       "    </tr>\n",
       "    <tr>\n",
       "      <th>1</th>\n",
       "      <td>5575-GNVDE</td>\n",
       "      <td>Male</td>\n",
       "      <td>0</td>\n",
       "      <td>0</td>\n",
       "      <td>0</td>\n",
       "    </tr>\n",
       "    <tr>\n",
       "      <th>2</th>\n",
       "      <td>3668-QPYBK</td>\n",
       "      <td>Male</td>\n",
       "      <td>0</td>\n",
       "      <td>0</td>\n",
       "      <td>0</td>\n",
       "    </tr>\n",
       "    <tr>\n",
       "      <th>3</th>\n",
       "      <td>7795-CFOCW</td>\n",
       "      <td>Male</td>\n",
       "      <td>0</td>\n",
       "      <td>0</td>\n",
       "      <td>0</td>\n",
       "    </tr>\n",
       "    <tr>\n",
       "      <th>4</th>\n",
       "      <td>9237-HQITU</td>\n",
       "      <td>Female</td>\n",
       "      <td>0</td>\n",
       "      <td>0</td>\n",
       "      <td>0</td>\n",
       "    </tr>\n",
       "  </tbody>\n",
       "</table>\n",
       "</div>"
      ],
      "text/plain": [
       "   customerID  gender  SeniorCitizen  Partner  Dependents\n",
       "0  7590-VHVEG  Female              0        1           0\n",
       "1  5575-GNVDE    Male              0        0           0\n",
       "2  3668-QPYBK    Male              0        0           0\n",
       "3  7795-CFOCW    Male              0        0           0\n",
       "4  9237-HQITU  Female              0        0           0"
      ]
     },
     "execution_count": 136,
     "metadata": {},
     "output_type": "execute_result"
    }
   ],
   "source": [
    "# Conversión de columna categórica Dependents a numérica booleana\n",
    "df_personal['Dependents'] = df_personal['Dependents'].map({'Yes': 1, 'No': 0})\n",
    "df_personal.head()"
   ]
  },
  {
   "cell_type": "markdown",
   "metadata": {},
   "source": [
    "#### Datos de internet"
   ]
  },
  {
   "cell_type": "code",
   "execution_count": 141,
   "metadata": {},
   "outputs": [
    {
     "data": {
      "application/vnd.microsoft.datawrangler.viewer.v0+json": {
       "columns": [
        {
         "name": "index",
         "rawType": "int64",
         "type": "integer"
        },
        {
         "name": "customerID",
         "rawType": "object",
         "type": "string"
        },
        {
         "name": "InternetService",
         "rawType": "object",
         "type": "string"
        },
        {
         "name": "OnlineSecurity",
         "rawType": "int64",
         "type": "integer"
        },
        {
         "name": "OnlineBackup",
         "rawType": "int64",
         "type": "integer"
        },
        {
         "name": "DeviceProtection",
         "rawType": "int64",
         "type": "integer"
        },
        {
         "name": "TechSupport",
         "rawType": "int64",
         "type": "integer"
        },
        {
         "name": "StreamingTV",
         "rawType": "int64",
         "type": "integer"
        },
        {
         "name": "StreamingMovies",
         "rawType": "int64",
         "type": "integer"
        }
       ],
       "ref": "a006f083-6cee-41fb-b594-5e6d9b83c8a6",
       "rows": [
        [
         "0",
         "7590-VHVEG",
         "DSL",
         "0",
         "1",
         "0",
         "0",
         "0",
         "0"
        ],
        [
         "1",
         "5575-GNVDE",
         "DSL",
         "1",
         "0",
         "1",
         "0",
         "0",
         "0"
        ],
        [
         "2",
         "3668-QPYBK",
         "DSL",
         "1",
         "1",
         "0",
         "0",
         "0",
         "0"
        ],
        [
         "3",
         "7795-CFOCW",
         "DSL",
         "1",
         "0",
         "1",
         "1",
         "0",
         "0"
        ],
        [
         "4",
         "9237-HQITU",
         "Fiber optic",
         "0",
         "0",
         "0",
         "0",
         "0",
         "0"
        ]
       ],
       "shape": {
        "columns": 8,
        "rows": 5
       }
      },
      "text/html": [
       "<div>\n",
       "<style scoped>\n",
       "    .dataframe tbody tr th:only-of-type {\n",
       "        vertical-align: middle;\n",
       "    }\n",
       "\n",
       "    .dataframe tbody tr th {\n",
       "        vertical-align: top;\n",
       "    }\n",
       "\n",
       "    .dataframe thead th {\n",
       "        text-align: right;\n",
       "    }\n",
       "</style>\n",
       "<table border=\"1\" class=\"dataframe\">\n",
       "  <thead>\n",
       "    <tr style=\"text-align: right;\">\n",
       "      <th></th>\n",
       "      <th>customerID</th>\n",
       "      <th>InternetService</th>\n",
       "      <th>OnlineSecurity</th>\n",
       "      <th>OnlineBackup</th>\n",
       "      <th>DeviceProtection</th>\n",
       "      <th>TechSupport</th>\n",
       "      <th>StreamingTV</th>\n",
       "      <th>StreamingMovies</th>\n",
       "    </tr>\n",
       "  </thead>\n",
       "  <tbody>\n",
       "    <tr>\n",
       "      <th>0</th>\n",
       "      <td>7590-VHVEG</td>\n",
       "      <td>DSL</td>\n",
       "      <td>0</td>\n",
       "      <td>1</td>\n",
       "      <td>0</td>\n",
       "      <td>0</td>\n",
       "      <td>0</td>\n",
       "      <td>0</td>\n",
       "    </tr>\n",
       "    <tr>\n",
       "      <th>1</th>\n",
       "      <td>5575-GNVDE</td>\n",
       "      <td>DSL</td>\n",
       "      <td>1</td>\n",
       "      <td>0</td>\n",
       "      <td>1</td>\n",
       "      <td>0</td>\n",
       "      <td>0</td>\n",
       "      <td>0</td>\n",
       "    </tr>\n",
       "    <tr>\n",
       "      <th>2</th>\n",
       "      <td>3668-QPYBK</td>\n",
       "      <td>DSL</td>\n",
       "      <td>1</td>\n",
       "      <td>1</td>\n",
       "      <td>0</td>\n",
       "      <td>0</td>\n",
       "      <td>0</td>\n",
       "      <td>0</td>\n",
       "    </tr>\n",
       "    <tr>\n",
       "      <th>3</th>\n",
       "      <td>7795-CFOCW</td>\n",
       "      <td>DSL</td>\n",
       "      <td>1</td>\n",
       "      <td>0</td>\n",
       "      <td>1</td>\n",
       "      <td>1</td>\n",
       "      <td>0</td>\n",
       "      <td>0</td>\n",
       "    </tr>\n",
       "    <tr>\n",
       "      <th>4</th>\n",
       "      <td>9237-HQITU</td>\n",
       "      <td>Fiber optic</td>\n",
       "      <td>0</td>\n",
       "      <td>0</td>\n",
       "      <td>0</td>\n",
       "      <td>0</td>\n",
       "      <td>0</td>\n",
       "      <td>0</td>\n",
       "    </tr>\n",
       "  </tbody>\n",
       "</table>\n",
       "</div>"
      ],
      "text/plain": [
       "   customerID InternetService  OnlineSecurity  OnlineBackup  DeviceProtection  \\\n",
       "0  7590-VHVEG             DSL               0             1                 0   \n",
       "1  5575-GNVDE             DSL               1             0                 1   \n",
       "2  3668-QPYBK             DSL               1             1                 0   \n",
       "3  7795-CFOCW             DSL               1             0                 1   \n",
       "4  9237-HQITU     Fiber optic               0             0                 0   \n",
       "\n",
       "   TechSupport  StreamingTV  StreamingMovies  \n",
       "0            0            0                0  \n",
       "1            0            0                0  \n",
       "2            0            0                0  \n",
       "3            1            0                0  \n",
       "4            0            0                0  "
      ]
     },
     "execution_count": 141,
     "metadata": {},
     "output_type": "execute_result"
    }
   ],
   "source": [
    "# Conversión de columnas categóricas a numéricas booleana\n",
    "for col in df_internet.columns.drop(['customerID', 'InternetService']):\n",
    "    df_internet[col] = df_internet[col].map({'Yes': 1, 'No': 0})\n",
    "\n",
    "df_internet.head()"
   ]
  },
  {
   "cell_type": "markdown",
   "metadata": {},
   "source": [
    "#### Datos telefónicos"
   ]
  },
  {
   "cell_type": "code",
   "execution_count": 142,
   "metadata": {},
   "outputs": [
    {
     "data": {
      "application/vnd.microsoft.datawrangler.viewer.v0+json": {
       "columns": [
        {
         "name": "index",
         "rawType": "int64",
         "type": "integer"
        },
        {
         "name": "customerID",
         "rawType": "object",
         "type": "string"
        },
        {
         "name": "MultipleLines",
         "rawType": "int64",
         "type": "integer"
        }
       ],
       "ref": "33318421-4a94-41a3-a92e-046beb3a1983",
       "rows": [
        [
         "0",
         "5575-GNVDE",
         "0"
        ],
        [
         "1",
         "3668-QPYBK",
         "0"
        ],
        [
         "2",
         "9237-HQITU",
         "0"
        ],
        [
         "3",
         "9305-CDSKC",
         "1"
        ],
        [
         "4",
         "1452-KIOVK",
         "1"
        ]
       ],
       "shape": {
        "columns": 2,
        "rows": 5
       }
      },
      "text/html": [
       "<div>\n",
       "<style scoped>\n",
       "    .dataframe tbody tr th:only-of-type {\n",
       "        vertical-align: middle;\n",
       "    }\n",
       "\n",
       "    .dataframe tbody tr th {\n",
       "        vertical-align: top;\n",
       "    }\n",
       "\n",
       "    .dataframe thead th {\n",
       "        text-align: right;\n",
       "    }\n",
       "</style>\n",
       "<table border=\"1\" class=\"dataframe\">\n",
       "  <thead>\n",
       "    <tr style=\"text-align: right;\">\n",
       "      <th></th>\n",
       "      <th>customerID</th>\n",
       "      <th>MultipleLines</th>\n",
       "    </tr>\n",
       "  </thead>\n",
       "  <tbody>\n",
       "    <tr>\n",
       "      <th>0</th>\n",
       "      <td>5575-GNVDE</td>\n",
       "      <td>0</td>\n",
       "    </tr>\n",
       "    <tr>\n",
       "      <th>1</th>\n",
       "      <td>3668-QPYBK</td>\n",
       "      <td>0</td>\n",
       "    </tr>\n",
       "    <tr>\n",
       "      <th>2</th>\n",
       "      <td>9237-HQITU</td>\n",
       "      <td>0</td>\n",
       "    </tr>\n",
       "    <tr>\n",
       "      <th>3</th>\n",
       "      <td>9305-CDSKC</td>\n",
       "      <td>1</td>\n",
       "    </tr>\n",
       "    <tr>\n",
       "      <th>4</th>\n",
       "      <td>1452-KIOVK</td>\n",
       "      <td>1</td>\n",
       "    </tr>\n",
       "  </tbody>\n",
       "</table>\n",
       "</div>"
      ],
      "text/plain": [
       "   customerID  MultipleLines\n",
       "0  5575-GNVDE              0\n",
       "1  3668-QPYBK              0\n",
       "2  9237-HQITU              0\n",
       "3  9305-CDSKC              1\n",
       "4  1452-KIOVK              1"
      ]
     },
     "execution_count": 142,
     "metadata": {},
     "output_type": "execute_result"
    }
   ],
   "source": [
    "# Conversión de columna categórica MultipleLines a numérica booleana\n",
    "df_phone['MultipleLines'] = df_phone['MultipleLines'].map({'Yes': 1, 'No': 0})\n",
    "df_phone.head()\n"
   ]
  },
  {
   "cell_type": "markdown",
   "metadata": {},
   "source": [
    "## 2. Análisis exploratorio de los datos <a id='data_analysis'></a>"
   ]
  },
  {
   "cell_type": "markdown",
   "metadata": {},
   "source": []
  }
 ],
 "metadata": {
  "kernelspec": {
   "display_name": "Python 3",
   "language": "python",
   "name": "python3"
  },
  "language_info": {
   "codemirror_mode": {
    "name": "ipython",
    "version": 3
   },
   "file_extension": ".py",
   "mimetype": "text/x-python",
   "name": "python",
   "nbconvert_exporter": "python",
   "pygments_lexer": "ipython3",
   "version": "3.12.8"
  }
 },
 "nbformat": 4,
 "nbformat_minor": 4
}
